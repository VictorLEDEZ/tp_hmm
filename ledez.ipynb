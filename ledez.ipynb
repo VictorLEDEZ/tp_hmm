{
 "cells": [
  {
   "cell_type": "markdown",
   "metadata": {},
   "source": [
    "# **Travaux Pratiques – Chaînes de Markov-HMMs - Victor LEDEZ**\n",
    "\n",
    "<hr/>\n",
    "<hr/>"
   ]
  },
  {
   "cell_type": "code",
   "execution_count": 1,
   "metadata": {},
   "outputs": [],
   "source": [
    "import matplotlib.pyplot as plt\n",
    "import numpy as np\n"
   ]
  },
  {
   "cell_type": "markdown",
   "metadata": {},
   "source": [
    "<hr/>\n",
    "\n",
    "## **Partie I**\n",
    "\n",
    "<hr/>"
   ]
  },
  {
   "cell_type": "code",
   "execution_count": 2,
   "metadata": {},
   "outputs": [
    {
     "name": "stdout",
     "output_type": "stream",
     "text": [
      "(28, 28)\n",
      "[[0.0000000e+00 1.1268720e-01 4.3608943e-02 4.5454545e-02 3.2904451e-02\n",
      "  2.2094495e-02 4.1763341e-02 1.5555790e-02 6.4437882e-02 6.8920059e-02\n",
      "  3.6384729e-03 4.2185193e-03 2.3465514e-02 3.9759544e-02 2.2832736e-02\n",
      "  7.0343809e-02 3.1058848e-02 1.4237503e-03 2.5680236e-02 6.6916262e-02\n",
      "  1.6452225e-01 1.0388104e-02 7.0660198e-03 7.0502004e-02 1.0546298e-04\n",
      "  1.0599030e-02 5.2731491e-05 0.0000000e+00]\n",
      " [0.0000000e+00 1.4701126e-05 2.2933757e-02 3.3959601e-02 3.8075917e-02\n",
      "  1.4701126e-04 6.1744730e-03 2.4697892e-02 8.8206757e-04 3.7046838e-02\n",
      "  8.8206757e-04 1.1907912e-02 8.1150216e-02 3.5870748e-02 2.2051689e-01\n",
      "  1.4701126e-04 1.8082385e-02 1.4701126e-05 9.4822263e-02 9.5410308e-02\n",
      "  1.3348623e-01 1.1760901e-02 3.3371556e-02 9.8497545e-03 5.8804504e-04\n",
      "  1.9846520e-02 8.8206757e-04 6.7478169e-02]\n",
      " [0.0000000e+00 7.1874260e-02 7.8982703e-04 7.8982703e-05 7.8982703e-04\n",
      "  2.8275808e-01 7.8982703e-05 7.8982703e-05 7.8982703e-05 7.0294605e-02\n",
      "  7.8982703e-03 7.8982703e-05 1.2084354e-01 2.3694811e-03 7.8982703e-05\n",
      "  1.2637232e-01 7.8982703e-05 7.8982703e-05 4.7389622e-02 1.5006714e-02\n",
      "  1.0267751e-02 1.2716215e-01 1.5796541e-03 7.8982703e-05 7.8982703e-05\n",
      "  1.0662665e-01 7.8982703e-05 7.1084433e-03]\n",
      " [0.0000000e+00 1.3674657e-01 4.0698384e-05 1.7500305e-02 1.2209515e-03\n",
      "  1.3674657e-01 4.0698384e-05 4.0698384e-05 1.6279354e-01 7.3257092e-02\n",
      "  4.0698384e-05 6.9594237e-02 3.7035530e-02 4.0698384e-05 4.0698384e-05\n",
      "  1.6686338e-01 4.0698384e-05 1.2209515e-03 5.2500916e-02 8.1396769e-04\n",
      "  8.7094542e-02 3.1337756e-02 4.0698384e-05 4.0698384e-05 4.0698384e-05\n",
      "  5.2907900e-03 4.0698384e-05 1.9535224e-02]\n",
      " [0.0000000e+00 3.6241263e-02 2.8762907e-05 2.8762907e-05 7.1907268e-03\n",
      "  1.3691144e-01 8.6288722e-04 3.7391780e-03 8.6288722e-04 9.0027900e-02\n",
      "  2.8762907e-04 2.8762907e-04 9.7793885e-03 5.1773233e-03 2.8762907e-03\n",
      "  3.4803118e-02 2.8762907e-05 2.8762907e-05 1.8983519e-02 2.0134035e-02\n",
      "  2.8762907e-05 2.0421664e-02 2.8762907e-03 8.6288722e-04 2.8762907e-05\n",
      "  8.6288722e-03 2.8762907e-05 5.9884373e-01]\n",
      " [0.0000000e+00 4.5607163e-02 3.1710502e-03 1.8653236e-02 7.8063794e-02\n",
      "  2.7979855e-02 9.6064167e-03 7.1814960e-03 1.6787913e-03 1.6041783e-02\n",
      "  2.7979855e-04 9.3266182e-04 3.0777840e-02 2.6207797e-02 8.6737549e-02\n",
      "  2.1451222e-03 1.0818877e-02 3.0777840e-03 1.2562955e-01 7.2094758e-02\n",
      "  2.3316545e-02 4.6633091e-04 1.6601380e-02 8.8602873e-03 8.3939564e-03\n",
      "  1.5109121e-02 9.3266182e-05 3.6047379e-01]\n",
      " [0.0000000e+00 6.6869301e-02 4.6761749e-05 4.6761749e-05 4.6761749e-05\n",
      "  7.4351181e-02 3.3668459e-02 4.6761749e-05 4.6761749e-05 7.7624503e-02\n",
      "  4.6761749e-05 4.6761749e-05 1.7301847e-02 4.6761749e-05 4.6761749e-05\n",
      "  1.5852233e-01 4.6761749e-05 4.6761749e-05 9.0250175e-02 1.8704700e-03\n",
      "  4.6294131e-02 3.2733224e-02 4.6761749e-05 4.6761749e-05 4.6761749e-05\n",
      "  3.2733224e-03 4.6761749e-05 3.9653963e-01]\n",
      " [0.0000000e+00 6.5942117e-02 6.1057516e-04 6.1057516e-05 2.4423006e-03\n",
      "  1.2822078e-01 6.1057516e-05 1.2211503e-02 1.3554769e-01 6.2889242e-02\n",
      "  6.1057516e-05 6.1057516e-05 2.8086457e-02 1.2211503e-03 2.3201856e-02\n",
      "  6.8384418e-02 6.1057516e-04 6.1057516e-05 9.7081451e-02 2.6254732e-02\n",
      "  6.1057516e-03 2.1370131e-02 6.1057516e-05 6.1057516e-04 6.1057516e-05\n",
      "  3.0528758e-03 6.1057516e-05 3.1566736e-01]\n",
      " [0.0000000e+00 1.4197531e-01 7.7160494e-04 1.9290123e-05 1.9290123e-05\n",
      "  4.6971451e-01 5.7870370e-04 1.9290123e-05 3.8580247e-04 1.4023920e-01\n",
      "  1.9290123e-05 1.9290123e-05 1.5432099e-03 2.8935185e-03 3.8580247e-03\n",
      "  7.5038580e-02 1.9290123e-05 1.9290123e-05 1.1188272e-02 1.7361111e-03\n",
      "  2.4498457e-02 1.9097222e-02 1.9290123e-05 1.1574074e-03 1.9290123e-05\n",
      "  2.1219136e-03 1.9290123e-05 1.0300926e-01]\n",
      " [0.0000000e+00 2.0688358e-02 1.0500909e-02 7.6954423e-02 3.8085386e-02\n",
      "  3.3696947e-02 2.3666228e-02 3.4010407e-02 1.5672999e-05 3.1345997e-04\n",
      "  1.5672999e-05 3.4480597e-03 5.4855495e-02 3.5734437e-02 2.4528243e-01\n",
      "  6.4572754e-02 6.1124694e-03 3.1345997e-04 4.1063256e-02 1.2757821e-01\n",
      "  1.1754749e-01 9.4037991e-04 3.2599837e-02 1.5672999e-05 1.0971099e-03\n",
      "  1.5672999e-05 6.2691994e-03 2.4606608e-02]\n",
      " [0.0000000e+00 4.7938639e-02 9.5877277e-04 9.5877277e-04 9.5877277e-04\n",
      "  1.6299137e-01 9.5877277e-04 9.5877277e-04 9.5877277e-04 9.5877277e-04\n",
      "  9.5877277e-04 9.5877277e-04 9.5877277e-04 9.5877277e-04 9.5877277e-04\n",
      "  4.6979866e-01 9.5877277e-04 9.5877277e-04 9.5877277e-04 9.5877277e-04\n",
      "  9.5877277e-04 2.9721956e-01 9.5877277e-04 9.5877277e-04 9.5877277e-04\n",
      "  9.5877277e-04 9.5877277e-04 9.5877277e-04]\n",
      " [0.0000000e+00 5.2677788e-03 1.7559263e-04 1.7559263e-04 1.7559263e-04\n",
      "  3.0728709e-01 3.5118525e-03 1.7559263e-04 1.7559263e-03 1.2115891e-01\n",
      "  1.7559263e-04 1.7559263e-04 1.7559263e-02 1.7559263e-04 1.0184372e-01\n",
      "  5.2677788e-03 1.7559263e-04 1.7559263e-04 1.7559263e-04 5.0921861e-02\n",
      "  1.7559263e-04 1.7559263e-03 1.7559263e-04 1.7559263e-04 1.7559263e-04\n",
      "  8.7796313e-03 1.7559263e-04 3.7225637e-01]\n",
      " [0.0000000e+00 7.2924514e-02 6.0268193e-04 3.0134097e-04 7.6540606e-02\n",
      "  1.7086033e-01 1.4765707e-02 9.0402290e-04 3.0134097e-05 1.3741148e-01\n",
      "  3.0134097e-05 3.3147506e-03 1.2897393e-01 5.4241374e-03 1.8080458e-03\n",
      "  6.4486967e-02 2.4107277e-03 3.0134097e-05 1.8080458e-03 2.0792527e-02\n",
      "  1.5971071e-02 2.0792527e-02 1.5368389e-02 2.1093868e-03 3.0134097e-05\n",
      "  8.8895585e-02 3.0134097e-05 1.5338255e-01]\n",
      " [0.0000000e+00 1.8229282e-01 1.5043582e-02 4.4245830e-05 4.4245830e-05\n",
      "  2.6768727e-01 2.2122915e-03 4.4245830e-05 4.4245830e-05 9.4686076e-02\n",
      "  4.4245830e-05 4.4245830e-05 1.3273749e-03 1.8583249e-02 1.3273749e-03\n",
      "  1.0486262e-01 5.2210079e-02 4.4245830e-05 1.1503916e-02 3.0087164e-02\n",
      "  8.8491660e-04 3.3626831e-02 4.4245830e-05 4.4245830e-05 4.4245830e-05\n",
      "  2.5220123e-02 4.4245830e-05 1.5795761e-01]\n",
      " [0.0000000e+00 2.5854592e-02 3.2727332e-04 3.6000065e-02 1.5807301e-01\n",
      "  8.6727430e-02 6.8727398e-03 1.0309110e-01 6.5454664e-04 3.3054606e-02\n",
      "  1.9636399e-03 9.4909263e-03 7.0363764e-03 8.1818331e-04 7.2000131e-03\n",
      "  5.2854642e-02 1.6363666e-04 3.2727332e-04 3.2727332e-04 4.9909182e-02\n",
      "  1.0047291e-01 5.2363732e-03 4.9090998e-03 1.6363666e-04 8.1818331e-04\n",
      "  1.3418206e-02 1.6363666e-05 2.9421872e-01]\n",
      " [0.0000000e+00 7.3598497e-03 1.0335108e-02 1.4406514e-02 1.6598810e-02\n",
      "  3.7582211e-03 1.2809270e-01 8.2994049e-03 3.7582211e-03 5.6373317e-03\n",
      "  1.5659255e-04 5.7939242e-03 3.4920138e-02 6.5455684e-02 1.6035077e-01\n",
      "  2.7247103e-02 1.5972440e-02 1.5659255e-04 1.1540871e-01 2.6150955e-02\n",
      "  4.6664579e-02 1.1556530e-01 1.9260883e-02 3.3823990e-02 2.0357031e-03\n",
      "  9.5521453e-03 1.5659255e-04 1.2308174e-01]\n",
      " [0.0000000e+00 1.2499137e-01 6.9056004e-04 6.9056004e-05 6.9056004e-05\n",
      "  1.9473793e-01 6.9056004e-05 6.9056004e-05 2.2788481e-02 4.1433603e-02\n",
      "  6.9056004e-05 6.9056004e-05 8.4248325e-02 2.7622402e-03 6.9056004e-05\n",
      "  1.1187073e-01 5.9388164e-02 6.9056004e-05 1.8921345e-01 2.0026241e-02\n",
      "  3.5909122e-02 4.3505283e-02 6.9056004e-05 6.9056004e-04 6.9056004e-05\n",
      "  2.7622402e-03 6.9056004e-05 6.4222084e-02]\n",
      " [0.0000000e+00 1.3966480e-03 1.3966480e-03 1.3966480e-03 1.3966480e-03\n",
      "  1.3966480e-03 1.3966480e-03 1.3966480e-03 1.3966480e-03 1.3966480e-03\n",
      "  1.3966480e-03 1.3966480e-03 1.3966480e-03 1.3966480e-03 1.3966480e-03\n",
      "  1.3966480e-03 1.3966480e-03 1.3966480e-03 1.3966480e-03 1.3966480e-03\n",
      "  1.3966480e-03 9.6368715e-01 1.3966480e-03 1.3966480e-03 1.3966480e-03\n",
      "  1.3966480e-03 1.3966480e-03 1.3966480e-03]\n",
      " [0.0000000e+00 8.0811621e-02 7.7890719e-04 1.4020329e-02 1.9862133e-02\n",
      "  2.4477159e-01 2.1419948e-03 1.0515247e-02 2.5314484e-03 9.5026678e-02\n",
      "  1.9472680e-05 1.3436149e-02 9.9310667e-03 1.5772871e-02 2.5119757e-02\n",
      "  9.2105776e-02 2.1419948e-03 1.9472680e-05 1.2657242e-02 4.9460607e-02\n",
      "  3.7387545e-02 1.4604510e-02 6.2312575e-03 2.1419948e-03 1.9472680e-05\n",
      "  3.7582272e-02 1.9472680e-05 2.1088912e-01]\n",
      " [0.0000000e+00 4.0555876e-02 3.1626142e-03 1.4324782e-02 5.5810838e-04\n",
      "  1.1459825e-01 2.7905419e-03 9.3018064e-04 3.6277045e-02 3.4416684e-02\n",
      "  1.8603613e-05 3.9067587e-03 8.9297342e-03 7.4414451e-03 2.7905419e-03\n",
      "  5.5438766e-02 2.2138299e-02 1.8603613e-04 5.5810838e-04 4.4462635e-02\n",
      "  1.3543430e-01 3.2742359e-02 1.1162168e-03 3.1626142e-03 1.8603613e-05\n",
      "  3.7207226e-03 1.8603613e-05 4.3030156e-01]\n",
      " [0.0000000e+00 3.5948616e-02 1.2569446e-05 3.7708339e-03 1.2569446e-04\n",
      "  8.4466678e-02 5.0277785e-04 1.2569446e-05 3.3937505e-01 8.9494457e-02\n",
      "  1.2569446e-05 1.2569446e-05 1.3072224e-02 1.0055557e-03 1.5083335e-03\n",
      "  8.8865985e-02 1.2569446e-04 1.2569446e-05 3.0418060e-02 2.0613892e-02\n",
      "  1.9482642e-02 1.8602780e-02 1.2569446e-05 9.0500013e-03 1.2569446e-05\n",
      "  2.0739586e-02 1.2569446e-05 2.2273059e-01]\n",
      " [0.0000000e+00 2.1856013e-02 2.1418892e-02 5.2891550e-02 1.9233291e-02\n",
      "  3.1909778e-02 9.1795253e-03 4.4586266e-02 4.3712025e-05 2.6227215e-02\n",
      "  4.3712025e-05 4.3712025e-04 9.4855095e-02 3.6280981e-02 1.1933383e-01\n",
      "  2.1856013e-03 4.9394588e-02 4.3712025e-05 1.5036937e-01 1.3201032e-01\n",
      "  1.4599816e-01 4.3712025e-05 4.3712025e-05 4.3712025e-05 2.6227215e-03\n",
      "  4.3712025e-04 4.3712025e-05 3.8466582e-02]\n",
      " [0.0000000e+00 7.7304262e-02 9.9108028e-05 9.9108028e-05 9.9108028e-05\n",
      "  6.1843409e-01 9.9108028e-05 9.9108028e-05 9.9108028e-05 2.4182359e-01\n",
      "  9.9108028e-05 9.9108028e-05 9.9108028e-05 9.9108028e-05 9.9108028e-05\n",
      "  5.4509415e-02 9.9108028e-05 9.9108028e-05 9.9108028e-04 9.9108028e-05\n",
      "  9.9108028e-05 3.9643211e-03 9.9108028e-05 9.9108028e-05 9.9108028e-05\n",
      "  9.9108028e-04 9.9108028e-05 9.9108028e-05]\n",
      " [0.0000000e+00 2.0323878e-01 5.4341919e-05 5.4341919e-05 2.1736768e-03\n",
      "  1.3802848e-01 2.1736768e-03 5.4341919e-05 1.8150201e-01 1.6791653e-01\n",
      "  5.4341919e-05 3.2605152e-03 4.3473535e-03 5.4341919e-05 2.6084121e-02\n",
      "  1.2879035e-01 5.4341919e-05 5.4341919e-05 1.4672318e-02 2.3910445e-02\n",
      "  5.4341919e-04 5.4341919e-05 5.4341919e-05 5.4341919e-05 5.4341919e-05\n",
      "  5.4341919e-04 5.4341919e-05 1.0216281e-01]\n",
      " [0.0000000e+00 1.0030864e-01 7.7160494e-04 1.2345679e-01 7.7160494e-04\n",
      "  8.4876543e-02 7.7160494e-04 7.7160494e-04 4.6296296e-02 1.0030864e-01\n",
      "  7.7160494e-04 7.7160494e-04 7.7160494e-04 7.7160494e-04 7.7160494e-04\n",
      "  7.7160494e-04 1.3117284e-01 7.7160494e-04 7.7160494e-04 7.7160494e-04\n",
      "  2.0061728e-01 3.0864198e-02 3.8580247e-02 7.7160494e-04 7.7160494e-03\n",
      "  7.7160494e-04 7.7160494e-04 1.2345679e-01]\n",
      " [0.0000000e+00 3.7845339e-03 6.3075565e-05 6.3075565e-05 6.3075565e-05\n",
      "  4.8568185e-02 6.3075565e-05 6.3075565e-05 6.3075565e-05 1.1984357e-02\n",
      "  6.3075565e-05 6.3075565e-05 8.8305790e-03 9.4613347e-03 1.8922669e-03\n",
      "  9.3351835e-02 1.8922669e-03 6.3075565e-05 1.2615113e-03 3.3430049e-02\n",
      "  5.6768008e-03 6.3075565e-05 6.3075565e-05 3.1537782e-03 6.3075565e-05\n",
      "  6.3075565e-05 6.3075565e-05 7.7582944e-01]\n",
      " [0.0000000e+00 3.0710173e-01 1.9193858e-03 1.9193858e-03 1.9193858e-03\n",
      "  5.5662188e-01 1.9193858e-03 1.9193858e-03 1.9193858e-03 3.8387716e-02\n",
      "  1.9193858e-03 1.9193858e-03 1.9193858e-02 1.9193858e-03 1.9193858e-03\n",
      "  1.9193858e-03 1.9193858e-03 1.9193858e-03 1.9193858e-03 1.9193858e-03\n",
      "  1.9193858e-03 1.9193858e-03 1.9193858e-02 1.9193858e-03 1.9193858e-03\n",
      "  1.9193858e-03 1.9193858e-02 1.9193858e-03]\n",
      " [0.0000000e+00 0.0000000e+00 0.0000000e+00 0.0000000e+00 0.0000000e+00\n",
      "  0.0000000e+00 0.0000000e+00 0.0000000e+00 0.0000000e+00 0.0000000e+00\n",
      "  0.0000000e+00 0.0000000e+00 0.0000000e+00 0.0000000e+00 0.0000000e+00\n",
      "  0.0000000e+00 0.0000000e+00 0.0000000e+00 0.0000000e+00 0.0000000e+00\n",
      "  0.0000000e+00 0.0000000e+00 0.0000000e+00 0.0000000e+00 0.0000000e+00\n",
      "  0.0000000e+00 0.0000000e+00 1.0000000e+00]]\n"
     ]
    }
   ],
   "source": [
    "# load : chargement d’un fichier\n",
    "\n",
    "bigram_english = np.loadtxt('bigramenglish.txt')\n",
    "print(bigram_english.shape)\n",
    "print(bigram_english)\n"
   ]
  },
  {
   "cell_type": "code",
   "execution_count": 3,
   "metadata": {},
   "outputs": [
    {
     "name": "stdout",
     "output_type": "stream",
     "text": [
      "{0: ' ', 1: 'a', 2: 'b', 3: 'c', 4: 'd', 5: 'e', 6: 'f', 7: 'g', 8: 'h', 9: 'i', 10: 'j', 11: 'k', 12: 'l', 13: 'm', 14: 'n', 15: 'o', 16: 'p', 17: 'q', 18: 'r', 19: 's', 20: 't', 21: 'u', 22: 'v', 23: 'w', 24: 'x', 25: 'y', 26: 'z', 27: ' '}\n",
      "{' ': 27, 'a': 1, 'b': 2, 'c': 3, 'd': 4, 'e': 5, 'f': 6, 'g': 7, 'h': 8, 'i': 9, 'j': 10, 'k': 11, 'l': 12, 'm': 13, 'n': 14, 'o': 15, 'p': 16, 'q': 17, 'r': 18, 's': 19, 't': 20, 'u': 21, 'v': 22, 'w': 23, 'x': 24, 'y': 25, 'z': 26}\n"
     ]
    }
   ],
   "source": [
    "# Création du dictionnaire clé-valeur associant états et caractères :\n",
    "letters = ' abcdefghijklmnopqrstuvwxyz '\n",
    "dic = {i: letter for i, letter in enumerate(letters)}\n",
    "print(dic)\n",
    "\n",
    "# Inverser le dictionnaire(les valeurs deviennent les clés et réciproquement) :\n",
    "dic_inv = {v: k for k, v in dic.items()}\n",
    "print(dic_inv)\n"
   ]
  },
  {
   "cell_type": "markdown",
   "metadata": {},
   "source": [
    "### **I.2.a) Matrice de transitions**\n",
    "> A quelles probabilités correspond la première ligne de la matrice de transition ? et celles de la dernière colonne ? Pour chaque lettre de l’alphabet, indiquer la transition la plus fréquente depuis cette lettre."
   ]
  },
  {
   "cell_type": "code",
   "execution_count": 4,
   "metadata": {},
   "outputs": [
    {
     "name": "stdout",
     "output_type": "stream",
     "text": [
      "[0.0000000e+00 1.1268720e-01 4.3608943e-02 4.5454545e-02 3.2904451e-02\n",
      " 2.2094495e-02 4.1763341e-02 1.5555790e-02 6.4437882e-02 6.8920059e-02\n",
      " 3.6384729e-03 4.2185193e-03 2.3465514e-02 3.9759544e-02 2.2832736e-02\n",
      " 7.0343809e-02 3.1058848e-02 1.4237503e-03 2.5680236e-02 6.6916262e-02\n",
      " 1.6452225e-01 1.0388104e-02 7.0660198e-03 7.0502004e-02 1.0546298e-04\n",
      " 1.0599030e-02 5.2731491e-05 0.0000000e+00]\n"
     ]
    }
   ],
   "source": [
    "# PREMIERE LIGNE DE LA MATRICE : La premiere ligne de la matrice de transition correspond a la probabilite de l'etat prochain pour le symbole ' '.\n",
    "\n",
    "print(bigram_english[0])\n"
   ]
  },
  {
   "cell_type": "code",
   "execution_count": 5,
   "metadata": {},
   "outputs": [
    {
     "name": "stdout",
     "output_type": "stream",
     "text": [
      "[0.0000000e+00 6.7478169e-02 7.1084433e-03 1.9535224e-02 5.9884373e-01\n",
      " 3.6047379e-01 3.9653963e-01 3.1566736e-01 1.0300926e-01 2.4606608e-02\n",
      " 9.5877277e-04 3.7225637e-01 1.5338255e-01 1.5795761e-01 2.9421872e-01\n",
      " 1.2308174e-01 6.4222084e-02 1.3966480e-03 2.1088912e-01 4.3030156e-01\n",
      " 2.2273059e-01 3.8466582e-02 9.9108028e-05 1.0216281e-01 1.2345679e-01\n",
      " 7.7582944e-01 1.9193858e-03 1.0000000e+00]\n"
     ]
    }
   ],
   "source": [
    "# DERNIERE COLONNE DE LA MATRICE : La derniere colonne de la matrice correspond a la probabilité d'obtenir ' ' en fonction de tous les symboles.\n",
    "\n",
    "print(bigram_english[:, -1])\n"
   ]
  },
  {
   "cell_type": "code",
   "execution_count": 6,
   "metadata": {},
   "outputs": [
    {
     "name": "stdout",
     "output_type": "stream",
     "text": [
      "letter: a, frequent transition: n\n",
      "letter: b, frequent transition: e\n",
      "letter: c, frequent transition: o\n",
      "letter: d, frequent transition:  \n",
      "letter: e, frequent transition:  \n",
      "letter: f, frequent transition:  \n",
      "letter: g, frequent transition:  \n",
      "letter: h, frequent transition: e\n",
      "letter: i, frequent transition: n\n",
      "letter: j, frequent transition: o\n",
      "letter: k, frequent transition:  \n",
      "letter: l, frequent transition: e\n",
      "letter: m, frequent transition: e\n",
      "letter: n, frequent transition:  \n",
      "letter: o, frequent transition: n\n",
      "letter: p, frequent transition: e\n",
      "letter: q, frequent transition: u\n",
      "letter: r, frequent transition: e\n",
      "letter: s, frequent transition:  \n",
      "letter: t, frequent transition: h\n",
      "letter: u, frequent transition: r\n",
      "letter: v, frequent transition: e\n",
      "letter: w, frequent transition: a\n",
      "letter: x, frequent transition: t\n",
      "letter: y, frequent transition:  \n",
      "letter: z, frequent transition: e\n"
     ]
    }
   ],
   "source": [
    "for i, line in enumerate(bigram_english):\n",
    "    letter = dic[i]\n",
    "    best_transition = dic[np.argmax(line)]\n",
    "    if letter != ' ':\n",
    "        print(f'letter: {letter}, frequent transition: {best_transition}')\n"
   ]
  },
  {
   "cell_type": "markdown",
   "metadata": {},
   "source": [
    "### **I.2.b) Générer un mot**\n",
    "> On veut générer un mot à partir de l’état initial 1 (espace de début de mot). Ecrire une fonction etat_suivant qui génère un état (à t+1) à partir de l’état courant (à t) et à l’aide de la matrice de transitions et de la fonction de répartition. Afficher sur un graphique la fonction de répartition pour une ligne de la matrice de transition et expliquer son rôle pour la génération de l’état à t+1. Utiliser cette fonction pour écrire la fonction genere_state_seq qui génère une séquence d’états jusqu’à aboutir à l’état final (28). Ecrire une fonction display_seq qui transforme une séquence d’états en séquence de caractères, à l’aide d’un dictionnaire. Utiliser ces fonctions pour générer des mots et donner des exemples de mots générés."
   ]
  },
  {
   "cell_type": "code",
   "execution_count": 7,
   "metadata": {},
   "outputs": [
    {
     "data": {
      "image/png": "[encoded data removed]",
      "text/plain": [
       "<Figure size 432x288 with 1 Axes>"
      ]
     },
     "metadata": {
      "needs_background": "light"
     },
     "output_type": "display_data"
    }
   ],
   "source": [
    "plt.plot(np.cumsum(bigram_english[0]))\n",
    "plt.ylabel('Fonction de Repartition')\n",
    "plt.show()"
   ]
  },
  {
   "cell_type": "markdown",
   "metadata": {},
   "source": [
    "On utilise la fonction de repartition pour la generation de l'etat t_plus_1 puisqu'elle permet de generer un tirage aleatoire sur notre prochaine etat dependament des poids des probabilitees de la matrice de transition."
   ]
  },
  {
   "cell_type": "code",
   "execution_count": 8,
   "metadata": {},
   "outputs": [],
   "source": [
    "def etat_suivant(t):\n",
    "    rand_prob = np.random.random()\n",
    "    cum_sum = np.cumsum(t)\n",
    "    t_plus_1 = 0\n",
    "\n",
    "    while(rand_prob >= cum_sum[t_plus_1]):\n",
    "        t_plus_1 = t_plus_1+1\n",
    "    \n",
    "    return t_plus_1\n",
    "\n",
    "def genere_state_seq(transition_matrix):\n",
    "    sequence = [0]\n",
    "    i = 0\n",
    "    while sequence[i] != (len(transition_matrix) - 1):\n",
    "        sequence.append(etat_suivant(transition_matrix[sequence[i]]))\n",
    "        i += 1\n",
    "    return sequence\n",
    "\n",
    "def display_seq(sequence, dictionary):\n",
    "    seq_string = ''\n",
    "    \n",
    "    for word in sequence:\n",
    "        seq_string += dictionary[word]\n",
    "\n",
    "    return seq_string\n"
   ]
  },
  {
   "cell_type": "code",
   "execution_count": 9,
   "metadata": {},
   "outputs": [
    {
     "name": "stdout",
     "output_type": "stream",
     "text": [
      "example 1:  patise \n",
      "example 2:  armiver \n",
      "example 3:  asefan \n",
      "example 4:  andakne \n",
      "example 5:  cthatedee \n",
      "example 6:  the \n",
      "example 7:  ame \n",
      "example 8:  a \n",
      "example 9:  phandew \n",
      "example 10:  ashe \n",
      "example 11:  hthug \n",
      "example 12:  wha \n",
      "example 13:  maltre \n",
      "example 14:  mi \n",
      "example 15:  thare \n",
      "example 16:  ofusasthind \n",
      "example 17:  se \n",
      "example 18:  fog \n",
      "example 19:  iat \n",
      "example 20:  tercery \n"
     ]
    }
   ],
   "source": [
    "n = 1\n",
    "while n < 21:\n",
    "    sequence = genere_state_seq(bigram_english)\n",
    "    print(f'example {n}: {display_seq(sequence, dic)}')\n",
    "    n += 1"
   ]
  },
  {
   "cell_type": "markdown",
   "metadata": {},
   "source": [
    "### **I.2.c) Générer une phrase**\n",
    "> On veut générer une suite de mots (phrase). Créer un état final de phrase (état 29, correspondant au caractère . ) dont la probabilité de transition vers cet état depuis un état final de mot est 0.1. Ecrire une fonction modifie_mat_dic qui modifie la matrice de transition et le dictionnaire en conséquence. Donner des exemples de phrases générées."
   ]
  },
  {
   "cell_type": "code",
   "execution_count": 10,
   "metadata": {},
   "outputs": [],
   "source": [
    "def modifie_mat_dic(dictionary, transition_matrix):\n",
    "    size = len(transition_matrix)\n",
    "    dictionary[size] = '.'\n",
    "    \n",
    "    transition_matrix[-1, -1] = 0\n",
    "    transition_matrix = np.concatenate((transition_matrix, np.zeros((size, 1))), axis=1)\n",
    "    transition_matrix[-1, -1] = 0.1\n",
    "    transition_matrix[-1, 0] = 0.9\n",
    "    transition_matrix = np.concatenate((transition_matrix, np.zeros((1, size+1))), axis=0)\n",
    "    transition_matrix[-1, -1] = 1\n",
    "\n",
    "    return dictionary, transition_matrix\n"
   ]
  },
  {
   "cell_type": "code",
   "execution_count": 11,
   "metadata": {},
   "outputs": [
    {
     "name": "stdout",
     "output_type": "stream",
     "text": [
      "{0: ' ', 1: 'a', 2: 'b', 3: 'c', 4: 'd', 5: 'e', 6: 'f', 7: 'g', 8: 'h', 9: 'i', 10: 'j', 11: 'k', 12: 'l', 13: 'm', 14: 'n', 15: 'o', 16: 'p', 17: 'q', 18: 'r', 19: 's', 20: 't', 21: 'u', 22: 'v', 23: 'w', 24: 'x', 25: 'y', 26: 'z', 27: ' ', 28: '.'}\n",
      "[0.0000000e+00 1.4701126e-05 2.2933757e-02 3.3959601e-02 3.8075917e-02\n",
      " 1.4701126e-04 6.1744730e-03 2.4697892e-02 8.8206757e-04 3.7046838e-02\n",
      " 8.8206757e-04 1.1907912e-02 8.1150216e-02 3.5870748e-02 2.2051689e-01\n",
      " 1.4701126e-04 1.8082385e-02 1.4701126e-05 9.4822263e-02 9.5410308e-02\n",
      " 1.3348623e-01 1.1760901e-02 3.3371556e-02 9.8497545e-03 5.8804504e-04\n",
      " 1.9846520e-02 8.8206757e-04 6.7478169e-02 0.0000000e+00]\n"
     ]
    }
   ],
   "source": [
    "dic_modified, bigram_english_modified = modifie_mat_dic(dic, bigram_english)\n",
    "\n",
    "print(dic_modified)\n",
    "print(bigram_english_modified[1])"
   ]
  },
  {
   "cell_type": "code",
   "execution_count": 12,
   "metadata": {},
   "outputs": [
    {
     "name": "stdout",
     "output_type": "stream",
     "text": [
      "example 1: t  t .\n",
      "example 2: chins  gn  tesivifrg  songisceen .\n",
      "example 3: fald .\n",
      "example 4: as  whioutod  bsag  yorviblefare  of  aies  chewso  paliglde  r  y  the  e  the  ilelass  isofon  the  reatus  lf .\n",
      "example 5: thiorindielt  wan  de  an  as  apof  ivind .\n",
      "example 6: icernan  t  cowo  thesund  chilind  t .\n",
      "example 7: iofont  d .\n",
      "example 8: wont  mearke  icoteelledyit  hen .\n",
      "example 9: ans  it  in  the  ave  ft  hulinlld  llolmsuped  i  vi  ber  hauto  dowivito  fige  lditryedely  wheag  an  lore  ino  thed  bowhe  ttho .\n",
      "example 10: wialy  d  mamuponisl  link  ind  wered  be .\n",
      "example 11: pred  sicioras  edidithe  omir  banchee  cce  wha  t .\n",
      "example 12: llind  tald  suf  ferouteequs  arais  banthithesh  hantheroorinde  re .\n",
      "example 13: inge  t  me  her  by  ave  oany .\n",
      "example 14: r .\n",
      "example 15: mofe  meri  owee  agesthiowinghoucathighees  ofit  eig  angreand  ared  the  hed  ereve  mast  veepl  sot  hine  ather  t .\n",
      "example 16: himeroeaichepre  caprercire  sin  ha  gastherario  am  any .\n",
      "example 17: he  th  nd  of  coutel  abichercoflee  sseras  imasofoln .\n",
      "example 18: y .\n",
      "example 19: danderimy  chey  mabesuletover  tisl  bouls  r  d  ster  s .\n",
      "example 20: sthixindilgisecothe  f  til  wocurterain  g  lan .\n"
     ]
    }
   ],
   "source": [
    "n = 1\n",
    "while n < 21:\n",
    "    sequence = genere_state_seq(bigram_english_modified)\n",
    "    print(f'example {n}:{display_seq(sequence, dic_modified)}')\n",
    "    n += 1\n"
   ]
  },
  {
   "cell_type": "markdown",
   "metadata": {},
   "source": [
    "### **I.3) Reconnaissance de la langue**\n",
    "> Charger la matrice des transitions entre caractères pour le français. Ecrire une fonction calc_vraisemblance qui calcule la vraisemblance du modèle français pour une phrase donnée en multipliant les probabilités de transition. Pour tenir compte de toutes les transitions (notamment celles entre espaces de fin et de début de mots et vers la fin de phrase) on pourra transformer une séquence « mot1 mot2.» par la séquence « -mot1+-mot2+.», les signes - , + et . représentant l’état initial de mot, l’état final de mot et l’état final de phrase, respectivement. Calculer la vraisemblance des modèles français et anglais pour la phrase « to be or not to be ». De même calculer la vraisemblance des modèles français et anglais pour la phrase « etre ou ne pas etre »."
   ]
  },
  {
   "cell_type": "code",
   "execution_count": 13,
   "id": "e0f2faed-8a7c-49e6-930c-4cd6cb3b2152",
   "metadata": {
    "execution": {
     "iopub.execute_input": "2022-03-19T09:28:11.375111Z",
     "iopub.status.busy": "2022-03-19T09:28:11.374694Z",
     "iopub.status.idle": "2022-03-19T09:28:11.383786Z",
     "shell.execute_reply": "2022-03-19T09:28:11.383265Z",
     "shell.execute_reply.started": "2022-03-19T09:28:11.375081Z"
    },
    "tags": []
   },
   "outputs": [],
   "source": [
    "bigram_french = np.loadtxt('bigramfrancais.txt')\n",
    "_, bigram_french_modified = modifie_mat_dic(dic, bigram_french)\n"
   ]
  },
  {
   "cell_type": "code",
   "execution_count": 14,
   "id": "616ca11a-df7b-46fb-960f-1f7532c59ca6",
   "metadata": {
    "execution": {
     "iopub.execute_input": "2022-03-19T09:17:50.003298Z",
     "iopub.status.busy": "2022-03-19T09:17:50.002875Z",
     "iopub.status.idle": "2022-03-19T09:17:50.008908Z",
     "shell.execute_reply": "2022-03-19T09:17:50.008275Z",
     "shell.execute_reply.started": "2022-03-19T09:17:50.003250Z"
    }
   },
   "outputs": [],
   "source": [
    "def calc_vraisemblance(seq, transition_matrix):\n",
    "    log_vraissemblance = 0\n",
    "\n",
    "    for i in range(len(seq) - 1):\n",
    "        t0 = seq[i]\n",
    "        t1 = seq[i+1]\n",
    "        log_vraissemblance -= np.log(transition_matrix[t0, t1])\n",
    "    \n",
    "    return log_vraissemblance"
   ]
  },
  {
   "cell_type": "code",
   "execution_count": 15,
   "id": "27f0a088-4622-42f7-9cc4-2df36afb7abe",
   "metadata": {
    "execution": {
     "iopub.execute_input": "2022-03-19T09:24:10.786698Z",
     "iopub.status.busy": "2022-03-19T09:24:10.786155Z",
     "iopub.status.idle": "2022-03-19T09:24:10.792083Z",
     "shell.execute_reply": "2022-03-19T09:24:10.791304Z",
     "shell.execute_reply.started": "2022-03-19T09:24:10.786630Z"
    },
    "tags": []
   },
   "outputs": [],
   "source": [
    "def sentence_to_sequence(sentence, dic_inv):\n",
    "    sentence = sentence[:-1].split()\n",
    "    sequence = []\n",
    "    for word in sentence:\n",
    "        sequence.append(0)\n",
    "        for char in word:\n",
    "            sequence.append(dic_inv[char])\n",
    "        sequence.append(27)\n",
    "    sequence.append(28)\n",
    "    return sequence"
   ]
  },
  {
   "cell_type": "code",
   "execution_count": 16,
   "id": "5576c050-0166-4683-b472-96ea4de80ef1",
   "metadata": {
    "execution": {
     "iopub.execute_input": "2022-03-19T09:31:12.384943Z",
     "iopub.status.busy": "2022-03-19T09:31:12.384416Z",
     "iopub.status.idle": "2022-03-19T09:31:12.392569Z",
     "shell.execute_reply": "2022-03-19T09:31:12.391384Z",
     "shell.execute_reply.started": "2022-03-19T09:31:12.384893Z"
    },
    "tags": []
   },
   "outputs": [
    {
     "name": "stdout",
     "output_type": "stream",
     "text": [
      "Vraisemblance pour la matrice de transition anglaise : 43.96\n",
      "Vraisemblance pour la matrice de transition française : 67.29\n"
     ]
    }
   ],
   "source": [
    "phrase_test_1 = 'to be or not to be.'\n",
    "\n",
    "sequence_1 = sentence_to_sequence(phrase_test_1, dic_inv)\n",
    "\n",
    "vraisemblance = calc_vraisemblance(sequence_1, bigram_english_modified)\n",
    "print(f'Vraisemblance pour la matrice de transition anglaise : {vraisemblance:.2f}')\n",
    "\n",
    "vraisemblance = calc_vraisemblance(sequence_1, bigram_french_modified)\n",
    "print(f'Vraisemblance pour la matrice de transition française : {vraisemblance:.2f}')\n"
   ]
  },
  {
   "cell_type": "code",
   "execution_count": 17,
   "id": "7f8b6180-bfd0-41b7-92d0-1e42b22caac6",
   "metadata": {
    "execution": {
     "iopub.execute_input": "2022-03-19T09:31:53.678211Z",
     "iopub.status.busy": "2022-03-19T09:31:53.677658Z",
     "iopub.status.idle": "2022-03-19T09:31:53.686438Z",
     "shell.execute_reply": "2022-03-19T09:31:53.685476Z",
     "shell.execute_reply.started": "2022-03-19T09:31:53.678152Z"
    },
    "tags": []
   },
   "outputs": [
    {
     "name": "stdout",
     "output_type": "stream",
     "text": [
      "Vraisemblance pour la matrice de transition anglaise : 53.77\n",
      "Vraisemblance pour la matrice de transition française : 43.61\n"
     ]
    }
   ],
   "source": [
    "phrase_test_2 = 'etre ou ne pas etre.'\n",
    "\n",
    "sequence_2 = sentence_to_sequence(phrase_test_2, dic_inv)\n",
    "\n",
    "vraisemblance = calc_vraisemblance(sequence_2, bigram_english_modified)\n",
    "print(f'Vraisemblance pour la matrice de transition anglaise : {vraisemblance:.2f}')\n",
    "\n",
    "vraisemblance = calc_vraisemblance(sequence_2, bigram_french_modified)\n",
    "print(f'Vraisemblance pour la matrice de transition française : {vraisemblance:.2f}')\n"
   ]
  },
  {
   "cell_type": "markdown",
   "metadata": {},
   "source": [
    "<hr/>\n",
    "\n",
    "## **Partie II**\n",
    "\n",
    "<hr/>"
   ]
  }
 ],
 "metadata": {
  "interpreter": {
   "hash": "f489fa09b09661d741d1aee0482c3792118d516f8dffab1399d2c4234cb3cfaa"
  },
  "kernelspec": {
   "display_name": "Python 3.9.7 64-bit",
   "language": "python",
   "name": "python3"
  },
  "language_info": {
   "codemirror_mode": {
    "name": "ipython",
    "version": 3
   },
   "file_extension": ".py",
   "mimetype": "text/x-python",
   "name": "python",
   "nbconvert_exporter": "python",
   "pygments_lexer": "ipython3",
   "version": "3.9.7"
  },
  "orig_nbformat": 4
 },
 "nbformat": 4,
 "nbformat_minor": 2
}
